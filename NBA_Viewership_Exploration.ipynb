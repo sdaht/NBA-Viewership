{
 "cells": [
  {
   "cell_type": "code",
   "execution_count": 91,
   "metadata": {},
   "outputs": [],
   "source": [
    "import pandas as pd\n",
    "import numpy as np\n",
    "from datetime import datetime\n",
    "import matplotlib.pyplot as plt\n",
    "import seaborn as sns; sns.set()\n",
    "\n",
    "import warnings\n",
    "warnings.filterwarnings(\"ignore\")"
   ]
  },
  {
   "cell_type": "markdown",
   "metadata": {},
   "source": [
    "Our objective is to explore the factors that contribute to international viewership of NBA games."
   ]
  },
  {
   "cell_type": "code",
   "execution_count": 92,
   "metadata": {},
   "outputs": [],
   "source": [
    "#Read necessary data sets\n",
    "viewers = pd.read_csv(\"data/training_set.csv\")\n",
    "players = pd.read_csv(\"data/player_data.csv\")\n",
    "players = players.where(players['Active_Status'] == 'Active').dropna()\n",
    "\n",
    "ASVotes_2017 = pd.read_csv(\"data/2017_ASG.csv\")\n",
    "ASVotes_2018 = pd.read_csv(\"data/2018_ASG.csv\")"
   ]
  },
  {
   "cell_type": "code",
   "execution_count": 93,
   "metadata": {},
   "outputs": [
    {
     "data": {
      "text/html": [
       "<div>\n",
       "<style scoped>\n",
       "    .dataframe tbody tr th:only-of-type {\n",
       "        vertical-align: middle;\n",
       "    }\n",
       "\n",
       "    .dataframe tbody tr th {\n",
       "        vertical-align: top;\n",
       "    }\n",
       "\n",
       "    .dataframe thead th {\n",
       "        text-align: right;\n",
       "    }\n",
       "</style>\n",
       "<table border=\"1\" class=\"dataframe\">\n",
       "  <thead>\n",
       "    <tr style=\"text-align: right;\">\n",
       "      <th></th>\n",
       "      <th>Season</th>\n",
       "      <th>Game_ID</th>\n",
       "      <th>Game_Date</th>\n",
       "      <th>Away_Team</th>\n",
       "      <th>Home_Team</th>\n",
       "      <th>Country</th>\n",
       "      <th>Rounded_Viewers</th>\n",
       "    </tr>\n",
       "  </thead>\n",
       "  <tbody>\n",
       "    <tr>\n",
       "      <th>0</th>\n",
       "      <td>2016-17</td>\n",
       "      <td>21600001</td>\n",
       "      <td>10/25/2016</td>\n",
       "      <td>NYK</td>\n",
       "      <td>CLE</td>\n",
       "      <td>C113</td>\n",
       "      <td>18</td>\n",
       "    </tr>\n",
       "    <tr>\n",
       "      <th>1</th>\n",
       "      <td>2016-17</td>\n",
       "      <td>21600001</td>\n",
       "      <td>10/25/2016</td>\n",
       "      <td>NYK</td>\n",
       "      <td>CLE</td>\n",
       "      <td>C193</td>\n",
       "      <td>1</td>\n",
       "    </tr>\n",
       "    <tr>\n",
       "      <th>2</th>\n",
       "      <td>2016-17</td>\n",
       "      <td>21600001</td>\n",
       "      <td>10/25/2016</td>\n",
       "      <td>NYK</td>\n",
       "      <td>CLE</td>\n",
       "      <td>C126</td>\n",
       "      <td>4</td>\n",
       "    </tr>\n",
       "    <tr>\n",
       "      <th>3</th>\n",
       "      <td>2016-17</td>\n",
       "      <td>21600001</td>\n",
       "      <td>10/25/2016</td>\n",
       "      <td>NYK</td>\n",
       "      <td>CLE</td>\n",
       "      <td>C163</td>\n",
       "      <td>11</td>\n",
       "    </tr>\n",
       "    <tr>\n",
       "      <th>4</th>\n",
       "      <td>2016-17</td>\n",
       "      <td>21600001</td>\n",
       "      <td>10/25/2016</td>\n",
       "      <td>NYK</td>\n",
       "      <td>CLE</td>\n",
       "      <td>C73</td>\n",
       "      <td>3</td>\n",
       "    </tr>\n",
       "  </tbody>\n",
       "</table>\n",
       "</div>"
      ],
      "text/plain": [
       "    Season   Game_ID   Game_Date Away_Team Home_Team Country  Rounded_Viewers\n",
       "0  2016-17  21600001  10/25/2016       NYK       CLE    C113               18\n",
       "1  2016-17  21600001  10/25/2016       NYK       CLE    C193                1\n",
       "2  2016-17  21600001  10/25/2016       NYK       CLE    C126                4\n",
       "3  2016-17  21600001  10/25/2016       NYK       CLE    C163               11\n",
       "4  2016-17  21600001  10/25/2016       NYK       CLE     C73                3"
      ]
     },
     "execution_count": 93,
     "metadata": {},
     "output_type": "execute_result"
    }
   ],
   "source": [
    "viewers.head()"
   ]
  },
  {
   "cell_type": "code",
   "execution_count": 94,
   "metadata": {
    "scrolled": false
   },
   "outputs": [
    {
     "data": {
      "text/html": [
       "<div>\n",
       "<style scoped>\n",
       "    .dataframe tbody tr th:only-of-type {\n",
       "        vertical-align: middle;\n",
       "    }\n",
       "\n",
       "    .dataframe tbody tr th {\n",
       "        vertical-align: top;\n",
       "    }\n",
       "\n",
       "    .dataframe thead th {\n",
       "        text-align: right;\n",
       "    }\n",
       "</style>\n",
       "<table border=\"1\" class=\"dataframe\">\n",
       "  <thead>\n",
       "    <tr style=\"text-align: right;\">\n",
       "      <th></th>\n",
       "      <th>Season</th>\n",
       "      <th>Game_ID</th>\n",
       "      <th>Game_Date</th>\n",
       "      <th>Team</th>\n",
       "      <th>Person_ID</th>\n",
       "      <th>Name</th>\n",
       "      <th>ASG_Team</th>\n",
       "      <th>Active_Status</th>\n",
       "      <th>Minutes</th>\n",
       "      <th>Points</th>\n",
       "      <th>...</th>\n",
       "      <th>Steals</th>\n",
       "      <th>Blocks</th>\n",
       "      <th>Turnovers</th>\n",
       "      <th>Field_Goals</th>\n",
       "      <th>Field_Goals_Attempted</th>\n",
       "      <th>Three_Pointers</th>\n",
       "      <th>Three_Pointers_Attempted</th>\n",
       "      <th>Free_Throws</th>\n",
       "      <th>Free_Throws_Attempted</th>\n",
       "      <th>Personal_Fouls</th>\n",
       "    </tr>\n",
       "  </thead>\n",
       "  <tbody>\n",
       "    <tr>\n",
       "      <th>0</th>\n",
       "      <td>2016-17</td>\n",
       "      <td>21600001.0</td>\n",
       "      <td>10/25/2016</td>\n",
       "      <td>CLE</td>\n",
       "      <td>101112.0</td>\n",
       "      <td>Channing Frye</td>\n",
       "      <td>None</td>\n",
       "      <td>Active</td>\n",
       "      <td>14.0</td>\n",
       "      <td>6.0</td>\n",
       "      <td>...</td>\n",
       "      <td>1.0</td>\n",
       "      <td>1.0</td>\n",
       "      <td>1.0</td>\n",
       "      <td>2.0</td>\n",
       "      <td>6.0</td>\n",
       "      <td>2.0</td>\n",
       "      <td>5.0</td>\n",
       "      <td>0.0</td>\n",
       "      <td>0.0</td>\n",
       "      <td>4.0</td>\n",
       "    </tr>\n",
       "    <tr>\n",
       "      <th>1</th>\n",
       "      <td>2016-17</td>\n",
       "      <td>21600001.0</td>\n",
       "      <td>10/25/2016</td>\n",
       "      <td>CLE</td>\n",
       "      <td>201567.0</td>\n",
       "      <td>Kevin Love</td>\n",
       "      <td>East ASG</td>\n",
       "      <td>Active</td>\n",
       "      <td>25.0</td>\n",
       "      <td>23.0</td>\n",
       "      <td>...</td>\n",
       "      <td>3.0</td>\n",
       "      <td>0.0</td>\n",
       "      <td>2.0</td>\n",
       "      <td>6.0</td>\n",
       "      <td>15.0</td>\n",
       "      <td>2.0</td>\n",
       "      <td>6.0</td>\n",
       "      <td>9.0</td>\n",
       "      <td>12.0</td>\n",
       "      <td>3.0</td>\n",
       "    </tr>\n",
       "    <tr>\n",
       "      <th>2</th>\n",
       "      <td>2016-17</td>\n",
       "      <td>21600001.0</td>\n",
       "      <td>10/25/2016</td>\n",
       "      <td>CLE</td>\n",
       "      <td>202681.0</td>\n",
       "      <td>Kyrie Irving</td>\n",
       "      <td>East ASG</td>\n",
       "      <td>Active</td>\n",
       "      <td>30.0</td>\n",
       "      <td>29.0</td>\n",
       "      <td>...</td>\n",
       "      <td>2.0</td>\n",
       "      <td>0.0</td>\n",
       "      <td>0.0</td>\n",
       "      <td>12.0</td>\n",
       "      <td>22.0</td>\n",
       "      <td>4.0</td>\n",
       "      <td>7.0</td>\n",
       "      <td>1.0</td>\n",
       "      <td>1.0</td>\n",
       "      <td>1.0</td>\n",
       "    </tr>\n",
       "    <tr>\n",
       "      <th>3</th>\n",
       "      <td>2016-17</td>\n",
       "      <td>21600001.0</td>\n",
       "      <td>10/25/2016</td>\n",
       "      <td>CLE</td>\n",
       "      <td>202684.0</td>\n",
       "      <td>Tristan Thompson</td>\n",
       "      <td>None</td>\n",
       "      <td>Active</td>\n",
       "      <td>22.0</td>\n",
       "      <td>0.0</td>\n",
       "      <td>...</td>\n",
       "      <td>0.0</td>\n",
       "      <td>0.0</td>\n",
       "      <td>2.0</td>\n",
       "      <td>0.0</td>\n",
       "      <td>1.0</td>\n",
       "      <td>0.0</td>\n",
       "      <td>0.0</td>\n",
       "      <td>0.0</td>\n",
       "      <td>0.0</td>\n",
       "      <td>4.0</td>\n",
       "    </tr>\n",
       "    <tr>\n",
       "      <th>4</th>\n",
       "      <td>2016-17</td>\n",
       "      <td>21600001.0</td>\n",
       "      <td>10/25/2016</td>\n",
       "      <td>CLE</td>\n",
       "      <td>202697.0</td>\n",
       "      <td>Iman Shumpert</td>\n",
       "      <td>None</td>\n",
       "      <td>Active</td>\n",
       "      <td>14.0</td>\n",
       "      <td>2.0</td>\n",
       "      <td>...</td>\n",
       "      <td>0.0</td>\n",
       "      <td>1.0</td>\n",
       "      <td>2.0</td>\n",
       "      <td>1.0</td>\n",
       "      <td>3.0</td>\n",
       "      <td>0.0</td>\n",
       "      <td>1.0</td>\n",
       "      <td>0.0</td>\n",
       "      <td>0.0</td>\n",
       "      <td>2.0</td>\n",
       "    </tr>\n",
       "  </tbody>\n",
       "</table>\n",
       "<p>5 rows × 23 columns</p>\n",
       "</div>"
      ],
      "text/plain": [
       "    Season     Game_ID   Game_Date Team  Person_ID              Name  \\\n",
       "0  2016-17  21600001.0  10/25/2016  CLE   101112.0     Channing Frye   \n",
       "1  2016-17  21600001.0  10/25/2016  CLE   201567.0        Kevin Love   \n",
       "2  2016-17  21600001.0  10/25/2016  CLE   202681.0      Kyrie Irving   \n",
       "3  2016-17  21600001.0  10/25/2016  CLE   202684.0  Tristan Thompson   \n",
       "4  2016-17  21600001.0  10/25/2016  CLE   202697.0     Iman Shumpert   \n",
       "\n",
       "   ASG_Team Active_Status  Minutes  Points       ...        Steals  Blocks  \\\n",
       "0      None        Active     14.0     6.0       ...           1.0     1.0   \n",
       "1  East ASG        Active     25.0    23.0       ...           3.0     0.0   \n",
       "2  East ASG        Active     30.0    29.0       ...           2.0     0.0   \n",
       "3      None        Active     22.0     0.0       ...           0.0     0.0   \n",
       "4      None        Active     14.0     2.0       ...           0.0     1.0   \n",
       "\n",
       "   Turnovers  Field_Goals  Field_Goals_Attempted  Three_Pointers  \\\n",
       "0        1.0          2.0                    6.0             2.0   \n",
       "1        2.0          6.0                   15.0             2.0   \n",
       "2        0.0         12.0                   22.0             4.0   \n",
       "3        2.0          0.0                    1.0             0.0   \n",
       "4        2.0          1.0                    3.0             0.0   \n",
       "\n",
       "   Three_Pointers_Attempted  Free_Throws  Free_Throws_Attempted  \\\n",
       "0                       5.0          0.0                    0.0   \n",
       "1                       6.0          9.0                   12.0   \n",
       "2                       7.0          1.0                    1.0   \n",
       "3                       0.0          0.0                    0.0   \n",
       "4                       1.0          0.0                    0.0   \n",
       "\n",
       "   Personal_Fouls  \n",
       "0             4.0  \n",
       "1             3.0  \n",
       "2             1.0  \n",
       "3             4.0  \n",
       "4             2.0  \n",
       "\n",
       "[5 rows x 23 columns]"
      ]
     },
     "execution_count": 94,
     "metadata": {},
     "output_type": "execute_result"
    }
   ],
   "source": [
    "players.head()"
   ]
  },
  {
   "cell_type": "code",
   "execution_count": 95,
   "metadata": {},
   "outputs": [
    {
     "data": {
      "text/html": [
       "<div>\n",
       "<style scoped>\n",
       "    .dataframe tbody tr th:only-of-type {\n",
       "        vertical-align: middle;\n",
       "    }\n",
       "\n",
       "    .dataframe tbody tr th {\n",
       "        vertical-align: top;\n",
       "    }\n",
       "\n",
       "    .dataframe thead th {\n",
       "        text-align: right;\n",
       "    }\n",
       "</style>\n",
       "<table border=\"1\" class=\"dataframe\">\n",
       "  <thead>\n",
       "    <tr style=\"text-align: right;\">\n",
       "      <th></th>\n",
       "      <th>Season</th>\n",
       "      <th>Game_ID</th>\n",
       "      <th>Game_Date</th>\n",
       "      <th>Away_Team</th>\n",
       "      <th>Home_Team</th>\n",
       "      <th>Total_Viewers</th>\n",
       "    </tr>\n",
       "  </thead>\n",
       "  <tbody>\n",
       "    <tr>\n",
       "      <th>0</th>\n",
       "      <td>2016-17</td>\n",
       "      <td>21600001</td>\n",
       "      <td>10/25/2016</td>\n",
       "      <td>NYK</td>\n",
       "      <td>CLE</td>\n",
       "      <td>57691</td>\n",
       "    </tr>\n",
       "    <tr>\n",
       "      <th>1</th>\n",
       "      <td>2016-17</td>\n",
       "      <td>21600002</td>\n",
       "      <td>10/25/2016</td>\n",
       "      <td>UTA</td>\n",
       "      <td>POR</td>\n",
       "      <td>40740</td>\n",
       "    </tr>\n",
       "    <tr>\n",
       "      <th>2</th>\n",
       "      <td>2016-17</td>\n",
       "      <td>21600003</td>\n",
       "      <td>10/25/2016</td>\n",
       "      <td>SAS</td>\n",
       "      <td>GSW</td>\n",
       "      <td>60428</td>\n",
       "    </tr>\n",
       "    <tr>\n",
       "      <th>3</th>\n",
       "      <td>2016-17</td>\n",
       "      <td>21600004</td>\n",
       "      <td>10/26/2016</td>\n",
       "      <td>MIA</td>\n",
       "      <td>ORL</td>\n",
       "      <td>22756</td>\n",
       "    </tr>\n",
       "    <tr>\n",
       "      <th>4</th>\n",
       "      <td>2016-17</td>\n",
       "      <td>21600005</td>\n",
       "      <td>10/26/2016</td>\n",
       "      <td>DAL</td>\n",
       "      <td>IND</td>\n",
       "      <td>33922</td>\n",
       "    </tr>\n",
       "  </tbody>\n",
       "</table>\n",
       "</div>"
      ],
      "text/plain": [
       "    Season   Game_ID   Game_Date Away_Team Home_Team  Total_Viewers\n",
       "0  2016-17  21600001  10/25/2016       NYK       CLE          57691\n",
       "1  2016-17  21600002  10/25/2016       UTA       POR          40740\n",
       "2  2016-17  21600003  10/25/2016       SAS       GSW          60428\n",
       "3  2016-17  21600004  10/26/2016       MIA       ORL          22756\n",
       "4  2016-17  21600005  10/26/2016       DAL       IND          33922"
      ]
     },
     "execution_count": 95,
     "metadata": {},
     "output_type": "execute_result"
    }
   ],
   "source": [
    "#Sum all of the viewers for each game throughout every country\n",
    "viewers = viewers.groupby(['Season', 'Game_ID', 'Game_Date', 'Away_Team', 'Home_Team'], as_index = False).agg(np.sum)\n",
    "viewers = viewers.rename(columns = {'Rounded_Viewers':'Total_Viewers'})\n",
    "viewers.head()"
   ]
  },
  {
   "cell_type": "markdown",
   "metadata": {},
   "source": [
    "The first factor we'll look at will be day and month. We want to see if some months or days tend to attract more viewers than others."
   ]
  },
  {
   "cell_type": "code",
   "execution_count": 96,
   "metadata": {},
   "outputs": [
    {
     "data": {
      "text/html": [
       "<div>\n",
       "<style scoped>\n",
       "    .dataframe tbody tr th:only-of-type {\n",
       "        vertical-align: middle;\n",
       "    }\n",
       "\n",
       "    .dataframe tbody tr th {\n",
       "        vertical-align: top;\n",
       "    }\n",
       "\n",
       "    .dataframe thead th {\n",
       "        text-align: right;\n",
       "    }\n",
       "</style>\n",
       "<table border=\"1\" class=\"dataframe\">\n",
       "  <thead>\n",
       "    <tr style=\"text-align: right;\">\n",
       "      <th></th>\n",
       "      <th>Season</th>\n",
       "      <th>Game_ID</th>\n",
       "      <th>Game_Date</th>\n",
       "      <th>Away_Team</th>\n",
       "      <th>Home_Team</th>\n",
       "      <th>Total_Viewers</th>\n",
       "      <th>Month</th>\n",
       "      <th>Weekday</th>\n",
       "      <th>Day_Num</th>\n",
       "      <th>Month_Num</th>\n",
       "    </tr>\n",
       "  </thead>\n",
       "  <tbody>\n",
       "    <tr>\n",
       "      <th>0</th>\n",
       "      <td>2016-17</td>\n",
       "      <td>21600001</td>\n",
       "      <td>10/25/2016</td>\n",
       "      <td>NYK</td>\n",
       "      <td>CLE</td>\n",
       "      <td>57691</td>\n",
       "      <td>October</td>\n",
       "      <td>Tuesday</td>\n",
       "      <td>1</td>\n",
       "      <td>1</td>\n",
       "    </tr>\n",
       "    <tr>\n",
       "      <th>1</th>\n",
       "      <td>2016-17</td>\n",
       "      <td>21600002</td>\n",
       "      <td>10/25/2016</td>\n",
       "      <td>UTA</td>\n",
       "      <td>POR</td>\n",
       "      <td>40740</td>\n",
       "      <td>October</td>\n",
       "      <td>Tuesday</td>\n",
       "      <td>1</td>\n",
       "      <td>1</td>\n",
       "    </tr>\n",
       "    <tr>\n",
       "      <th>2</th>\n",
       "      <td>2016-17</td>\n",
       "      <td>21600003</td>\n",
       "      <td>10/25/2016</td>\n",
       "      <td>SAS</td>\n",
       "      <td>GSW</td>\n",
       "      <td>60428</td>\n",
       "      <td>October</td>\n",
       "      <td>Tuesday</td>\n",
       "      <td>1</td>\n",
       "      <td>1</td>\n",
       "    </tr>\n",
       "    <tr>\n",
       "      <th>3</th>\n",
       "      <td>2016-17</td>\n",
       "      <td>21600004</td>\n",
       "      <td>10/26/2016</td>\n",
       "      <td>MIA</td>\n",
       "      <td>ORL</td>\n",
       "      <td>22756</td>\n",
       "      <td>October</td>\n",
       "      <td>Wednesday</td>\n",
       "      <td>2</td>\n",
       "      <td>1</td>\n",
       "    </tr>\n",
       "    <tr>\n",
       "      <th>4</th>\n",
       "      <td>2016-17</td>\n",
       "      <td>21600005</td>\n",
       "      <td>10/26/2016</td>\n",
       "      <td>DAL</td>\n",
       "      <td>IND</td>\n",
       "      <td>33922</td>\n",
       "      <td>October</td>\n",
       "      <td>Wednesday</td>\n",
       "      <td>2</td>\n",
       "      <td>1</td>\n",
       "    </tr>\n",
       "  </tbody>\n",
       "</table>\n",
       "</div>"
      ],
      "text/plain": [
       "    Season   Game_ID   Game_Date Away_Team Home_Team  Total_Viewers    Month  \\\n",
       "0  2016-17  21600001  10/25/2016       NYK       CLE          57691  October   \n",
       "1  2016-17  21600002  10/25/2016       UTA       POR          40740  October   \n",
       "2  2016-17  21600003  10/25/2016       SAS       GSW          60428  October   \n",
       "3  2016-17  21600004  10/26/2016       MIA       ORL          22756  October   \n",
       "4  2016-17  21600005  10/26/2016       DAL       IND          33922  October   \n",
       "\n",
       "     Weekday  Day_Num  Month_Num  \n",
       "0    Tuesday        1          1  \n",
       "1    Tuesday        1          1  \n",
       "2    Tuesday        1          1  \n",
       "3  Wednesday        2          1  \n",
       "4  Wednesday        2          1  "
      ]
     },
     "execution_count": 96,
     "metadata": {},
     "output_type": "execute_result"
    }
   ],
   "source": [
    "#Convert 'Game_ID' to a string variable\n",
    "viewers['Game_ID'] = viewers['Game_ID'].apply(str)\n",
    "\n",
    "#Get month and day by both name and number. October is 1 because it's when the NBA season starts\n",
    "viewers['Month'] = viewers['Game_Date'].apply(lambda x: datetime.strptime(x,\"%m/%d/%Y\").strftime(\"%B\"))\n",
    "viewers['Weekday'] = viewers['Game_Date'].apply(lambda x: datetime.strptime(x,\"%m/%d/%Y\").strftime(\"%A\"))\n",
    "viewers['Day_Num'] = viewers['Game_Date'].apply(lambda x: datetime.strptime(x,\"%m/%d/%Y\").weekday())\n",
    "month_num = {'October':1,'November':2,'December':3,'January':4,'February':5,'March':6,'April':7}\n",
    "viewers['Month_Num'] = viewers['Month'].map(month_num)\n",
    "\n",
    "viewers.head()"
   ]
  },
  {
   "cell_type": "code",
   "execution_count": 97,
   "metadata": {},
   "outputs": [],
   "source": [
    "#Calculate average monthly and daily viewership\n",
    "monthly_viewers = viewers.groupby('Month',as_index=False).agg(np.mean).sort_values('Month_Num').drop(['Month_Num','Day_Num'],axis=1).rename(columns={'Total_Viewers':'Avg_Monthly_Viewers'})\n",
    "daily_viewers = viewers.groupby('Weekday',as_index=False).agg(np.mean).sort_values('Day_Num').drop(['Month_Num','Day_Num'],axis=1).rename(columns={'Total_Viewers':'Avg_Daily_Viewers'})"
   ]
  },
  {
   "cell_type": "code",
   "execution_count": 98,
   "metadata": {},
   "outputs": [
    {
     "data": {
      "text/html": [
       "<div>\n",
       "<style scoped>\n",
       "    .dataframe tbody tr th:only-of-type {\n",
       "        vertical-align: middle;\n",
       "    }\n",
       "\n",
       "    .dataframe tbody tr th {\n",
       "        vertical-align: top;\n",
       "    }\n",
       "\n",
       "    .dataframe thead th {\n",
       "        text-align: right;\n",
       "    }\n",
       "</style>\n",
       "<table border=\"1\" class=\"dataframe\">\n",
       "  <thead>\n",
       "    <tr style=\"text-align: right;\">\n",
       "      <th></th>\n",
       "      <th>Month</th>\n",
       "      <th>Avg_Monthly_Viewers</th>\n",
       "    </tr>\n",
       "  </thead>\n",
       "  <tbody>\n",
       "    <tr>\n",
       "      <th>6</th>\n",
       "      <td>October</td>\n",
       "      <td>26877.960630</td>\n",
       "    </tr>\n",
       "    <tr>\n",
       "      <th>5</th>\n",
       "      <td>November</td>\n",
       "      <td>19631.377410</td>\n",
       "    </tr>\n",
       "    <tr>\n",
       "      <th>1</th>\n",
       "      <td>December</td>\n",
       "      <td>16159.407008</td>\n",
       "    </tr>\n",
       "    <tr>\n",
       "      <th>3</th>\n",
       "      <td>January</td>\n",
       "      <td>17001.851312</td>\n",
       "    </tr>\n",
       "    <tr>\n",
       "      <th>2</th>\n",
       "      <td>February</td>\n",
       "      <td>15392.463602</td>\n",
       "    </tr>\n",
       "    <tr>\n",
       "      <th>4</th>\n",
       "      <td>March</td>\n",
       "      <td>14287.091864</td>\n",
       "    </tr>\n",
       "    <tr>\n",
       "      <th>0</th>\n",
       "      <td>April</td>\n",
       "      <td>13689.207792</td>\n",
       "    </tr>\n",
       "  </tbody>\n",
       "</table>\n",
       "</div>"
      ],
      "text/plain": [
       "      Month  Avg_Monthly_Viewers\n",
       "6   October         26877.960630\n",
       "5  November         19631.377410\n",
       "1  December         16159.407008\n",
       "3   January         17001.851312\n",
       "2  February         15392.463602\n",
       "4     March         14287.091864\n",
       "0     April         13689.207792"
      ]
     },
     "execution_count": 98,
     "metadata": {},
     "output_type": "execute_result"
    }
   ],
   "source": [
    "monthly_viewers"
   ]
  },
  {
   "cell_type": "code",
   "execution_count": 99,
   "metadata": {},
   "outputs": [
    {
     "data": {
      "text/plain": [
       "<matplotlib.axes._subplots.AxesSubplot at 0x1840aef5e48>"
      ]
     },
     "execution_count": 99,
     "metadata": {},
     "output_type": "execute_result"
    },
    {
     "data": {
      "image/png": "[encoded data removed]",
      "text/plain": [
       "<Figure size 720x504 with 1 Axes>"
      ]
     },
     "metadata": {},
     "output_type": "display_data"
    }
   ],
   "source": [
    "monthly_viewers.plot(x = 'Month', y = 'Avg_Monthly_Viewers')"
   ]
  },
  {
   "cell_type": "markdown",
   "metadata": {},
   "source": [
    "According to our data, viewership is at its highest when the season begins, and progressively deminishes, except for a small spike at the beginning of the year."
   ]
  },
  {
   "cell_type": "code",
   "execution_count": 100,
   "metadata": {},
   "outputs": [
    {
     "data": {
      "text/html": [
       "<div>\n",
       "<style scoped>\n",
       "    .dataframe tbody tr th:only-of-type {\n",
       "        vertical-align: middle;\n",
       "    }\n",
       "\n",
       "    .dataframe tbody tr th {\n",
       "        vertical-align: top;\n",
       "    }\n",
       "\n",
       "    .dataframe thead th {\n",
       "        text-align: right;\n",
       "    }\n",
       "</style>\n",
       "<table border=\"1\" class=\"dataframe\">\n",
       "  <thead>\n",
       "    <tr style=\"text-align: right;\">\n",
       "      <th></th>\n",
       "      <th>Weekday</th>\n",
       "      <th>Avg_Daily_Viewers</th>\n",
       "    </tr>\n",
       "  </thead>\n",
       "  <tbody>\n",
       "    <tr>\n",
       "      <th>1</th>\n",
       "      <td>Monday</td>\n",
       "      <td>16268.482759</td>\n",
       "    </tr>\n",
       "    <tr>\n",
       "      <th>5</th>\n",
       "      <td>Tuesday</td>\n",
       "      <td>17485.631373</td>\n",
       "    </tr>\n",
       "    <tr>\n",
       "      <th>6</th>\n",
       "      <td>Wednesday</td>\n",
       "      <td>14639.956633</td>\n",
       "    </tr>\n",
       "    <tr>\n",
       "      <th>4</th>\n",
       "      <td>Thursday</td>\n",
       "      <td>20862.146067</td>\n",
       "    </tr>\n",
       "    <tr>\n",
       "      <th>0</th>\n",
       "      <td>Friday</td>\n",
       "      <td>16564.732955</td>\n",
       "    </tr>\n",
       "    <tr>\n",
       "      <th>2</th>\n",
       "      <td>Saturday</td>\n",
       "      <td>17376.184564</td>\n",
       "    </tr>\n",
       "    <tr>\n",
       "      <th>3</th>\n",
       "      <td>Sunday</td>\n",
       "      <td>18287.272340</td>\n",
       "    </tr>\n",
       "  </tbody>\n",
       "</table>\n",
       "</div>"
      ],
      "text/plain": [
       "     Weekday  Avg_Daily_Viewers\n",
       "1     Monday       16268.482759\n",
       "5    Tuesday       17485.631373\n",
       "6  Wednesday       14639.956633\n",
       "4   Thursday       20862.146067\n",
       "0     Friday       16564.732955\n",
       "2   Saturday       17376.184564\n",
       "3     Sunday       18287.272340"
      ]
     },
     "execution_count": 100,
     "metadata": {},
     "output_type": "execute_result"
    }
   ],
   "source": [
    "daily_viewers"
   ]
  },
  {
   "cell_type": "code",
   "execution_count": 101,
   "metadata": {},
   "outputs": [
    {
     "data": {
      "text/plain": [
       "<matplotlib.axes._subplots.AxesSubplot at 0x18411f192b0>"
      ]
     },
     "execution_count": 101,
     "metadata": {},
     "output_type": "execute_result"
    },
    {
     "data": {
      "image/png": "[encoded data removed]",
      "text/plain": [
       "<Figure size 720x504 with 1 Axes>"
      ]
     },
     "metadata": {},
     "output_type": "display_data"
    }
   ],
   "source": [
    "daily_viewers.plot(x = 'Weekday',y = 'Avg_Daily_Viewers')"
   ]
  },
  {
   "cell_type": "markdown",
   "metadata": {},
   "source": [
    "Average viewership seems to be abnormally high on Thurdays. This is possibly due to the way that networks schedule games. Certain days may be reserved for the biggest and most widely available games.\n",
    "\n",
    "Next, we'll look at the composition of the teams in each respective game. We'll use the number of all stars and the number of all-star starter votes as proxies for strength of the player and popularity respectively. NBA fans vote for the starters, and the coaches vote for the rest of the roster, so we believe these to be good approximate measures. "
   ]
  },
  {
   "cell_type": "code",
   "execution_count": 102,
   "metadata": {},
   "outputs": [
    {
     "data": {
      "text/html": [
       "<div>\n",
       "<style scoped>\n",
       "    .dataframe tbody tr th:only-of-type {\n",
       "        vertical-align: middle;\n",
       "    }\n",
       "\n",
       "    .dataframe tbody tr th {\n",
       "        vertical-align: top;\n",
       "    }\n",
       "\n",
       "    .dataframe thead th {\n",
       "        text-align: right;\n",
       "    }\n",
       "</style>\n",
       "<table border=\"1\" class=\"dataframe\">\n",
       "  <thead>\n",
       "    <tr style=\"text-align: right;\">\n",
       "      <th></th>\n",
       "      <th>Season</th>\n",
       "      <th>Game_ID</th>\n",
       "      <th>Game_Date</th>\n",
       "      <th>Team</th>\n",
       "      <th>Person_ID</th>\n",
       "      <th>Name</th>\n",
       "      <th>ASG_Team</th>\n",
       "      <th>Active_Status</th>\n",
       "    </tr>\n",
       "  </thead>\n",
       "  <tbody>\n",
       "    <tr>\n",
       "      <th>0</th>\n",
       "      <td>2016-17</td>\n",
       "      <td>21600001</td>\n",
       "      <td>10/25/2016</td>\n",
       "      <td>CLE</td>\n",
       "      <td>101112.0</td>\n",
       "      <td>Channing Frye</td>\n",
       "      <td>None</td>\n",
       "      <td>Active</td>\n",
       "    </tr>\n",
       "    <tr>\n",
       "      <th>1</th>\n",
       "      <td>2016-17</td>\n",
       "      <td>21600001</td>\n",
       "      <td>10/25/2016</td>\n",
       "      <td>CLE</td>\n",
       "      <td>201567.0</td>\n",
       "      <td>Kevin Love</td>\n",
       "      <td>East ASG</td>\n",
       "      <td>Active</td>\n",
       "    </tr>\n",
       "    <tr>\n",
       "      <th>2</th>\n",
       "      <td>2016-17</td>\n",
       "      <td>21600001</td>\n",
       "      <td>10/25/2016</td>\n",
       "      <td>CLE</td>\n",
       "      <td>202681.0</td>\n",
       "      <td>Kyrie Irving</td>\n",
       "      <td>East ASG</td>\n",
       "      <td>Active</td>\n",
       "    </tr>\n",
       "    <tr>\n",
       "      <th>3</th>\n",
       "      <td>2016-17</td>\n",
       "      <td>21600001</td>\n",
       "      <td>10/25/2016</td>\n",
       "      <td>CLE</td>\n",
       "      <td>202684.0</td>\n",
       "      <td>Tristan Thompson</td>\n",
       "      <td>None</td>\n",
       "      <td>Active</td>\n",
       "    </tr>\n",
       "    <tr>\n",
       "      <th>4</th>\n",
       "      <td>2016-17</td>\n",
       "      <td>21600001</td>\n",
       "      <td>10/25/2016</td>\n",
       "      <td>CLE</td>\n",
       "      <td>202697.0</td>\n",
       "      <td>Iman Shumpert</td>\n",
       "      <td>None</td>\n",
       "      <td>Active</td>\n",
       "    </tr>\n",
       "  </tbody>\n",
       "</table>\n",
       "</div>"
      ],
      "text/plain": [
       "    Season   Game_ID   Game_Date Team  Person_ID              Name  ASG_Team  \\\n",
       "0  2016-17  21600001  10/25/2016  CLE   101112.0     Channing Frye      None   \n",
       "1  2016-17  21600001  10/25/2016  CLE   201567.0        Kevin Love  East ASG   \n",
       "2  2016-17  21600001  10/25/2016  CLE   202681.0      Kyrie Irving  East ASG   \n",
       "3  2016-17  21600001  10/25/2016  CLE   202684.0  Tristan Thompson      None   \n",
       "4  2016-17  21600001  10/25/2016  CLE   202697.0     Iman Shumpert      None   \n",
       "\n",
       "  Active_Status  \n",
       "0        Active  \n",
       "1        Active  \n",
       "2        Active  \n",
       "3        Active  \n",
       "4        Active  "
      ]
     },
     "execution_count": 102,
     "metadata": {},
     "output_type": "execute_result"
    }
   ],
   "source": [
    "players = players[['Season', 'Game_ID', 'Game_Date', 'Team', 'Person_ID', 'Name', 'ASG_Team', 'Active_Status']]\n",
    "\n",
    "#Split data by year\n",
    "viewers_2017 = viewers[viewers['Season'] == \"2016-17\"]\n",
    "viewers_2018 = viewers[viewers['Season'] == \"2017-18\"]\n",
    "players_2017 = players[players['Game_ID'] < 21700000]\n",
    "players_2018 = players[players['Game_ID'] > 21700000]\n",
    "\n",
    "#Covert 'Game_ID' to a string variable\n",
    "players_2017['Game_ID'] = players_2017['Game_ID'].apply(lambda x:str(int(x)))\n",
    "players_2018['Game_ID'] = players_2018['Game_ID'].apply(lambda x:str(int(x)))\n",
    "\n",
    "players_2017.head()"
   ]
  },
  {
   "cell_type": "code",
   "execution_count": 103,
   "metadata": {},
   "outputs": [
    {
     "data": {
      "text/html": [
       "<div>\n",
       "<style scoped>\n",
       "    .dataframe tbody tr th:only-of-type {\n",
       "        vertical-align: middle;\n",
       "    }\n",
       "\n",
       "    .dataframe tbody tr th {\n",
       "        vertical-align: top;\n",
       "    }\n",
       "\n",
       "    .dataframe thead th {\n",
       "        text-align: right;\n",
       "    }\n",
       "</style>\n",
       "<table border=\"1\" class=\"dataframe\">\n",
       "  <thead>\n",
       "    <tr style=\"text-align: right;\">\n",
       "      <th></th>\n",
       "      <th>Season</th>\n",
       "      <th>Game_ID</th>\n",
       "      <th>Game_Date</th>\n",
       "      <th>Team</th>\n",
       "      <th>Person_ID</th>\n",
       "      <th>Name</th>\n",
       "      <th>ASG_Team</th>\n",
       "      <th>Active_Status</th>\n",
       "      <th>AS</th>\n",
       "      <th>Votes</th>\n",
       "    </tr>\n",
       "  </thead>\n",
       "  <tbody>\n",
       "    <tr>\n",
       "      <th>0</th>\n",
       "      <td>2016-17</td>\n",
       "      <td>21600001</td>\n",
       "      <td>10/25/2016</td>\n",
       "      <td>CLE</td>\n",
       "      <td>101112.0</td>\n",
       "      <td>Channing Frye</td>\n",
       "      <td>None</td>\n",
       "      <td>Active</td>\n",
       "      <td>0</td>\n",
       "      <td>46384</td>\n",
       "    </tr>\n",
       "    <tr>\n",
       "      <th>1</th>\n",
       "      <td>2016-17</td>\n",
       "      <td>21600001</td>\n",
       "      <td>10/25/2016</td>\n",
       "      <td>CLE</td>\n",
       "      <td>201567.0</td>\n",
       "      <td>Kevin Love</td>\n",
       "      <td>East ASG</td>\n",
       "      <td>Active</td>\n",
       "      <td>1</td>\n",
       "      <td>909488</td>\n",
       "    </tr>\n",
       "    <tr>\n",
       "      <th>2</th>\n",
       "      <td>2016-17</td>\n",
       "      <td>21600001</td>\n",
       "      <td>10/25/2016</td>\n",
       "      <td>CLE</td>\n",
       "      <td>202681.0</td>\n",
       "      <td>Kyrie Irving</td>\n",
       "      <td>East ASG</td>\n",
       "      <td>Active</td>\n",
       "      <td>1</td>\n",
       "      <td>1696769</td>\n",
       "    </tr>\n",
       "    <tr>\n",
       "      <th>3</th>\n",
       "      <td>2016-17</td>\n",
       "      <td>21600001</td>\n",
       "      <td>10/25/2016</td>\n",
       "      <td>CLE</td>\n",
       "      <td>202684.0</td>\n",
       "      <td>Tristan Thompson</td>\n",
       "      <td>None</td>\n",
       "      <td>Active</td>\n",
       "      <td>0</td>\n",
       "      <td>245822</td>\n",
       "    </tr>\n",
       "    <tr>\n",
       "      <th>4</th>\n",
       "      <td>2016-17</td>\n",
       "      <td>21600001</td>\n",
       "      <td>10/25/2016</td>\n",
       "      <td>CLE</td>\n",
       "      <td>202697.0</td>\n",
       "      <td>Iman Shumpert</td>\n",
       "      <td>None</td>\n",
       "      <td>Active</td>\n",
       "      <td>0</td>\n",
       "      <td>50970</td>\n",
       "    </tr>\n",
       "  </tbody>\n",
       "</table>\n",
       "</div>"
      ],
      "text/plain": [
       "    Season   Game_ID   Game_Date Team  Person_ID              Name  ASG_Team  \\\n",
       "0  2016-17  21600001  10/25/2016  CLE   101112.0     Channing Frye      None   \n",
       "1  2016-17  21600001  10/25/2016  CLE   201567.0        Kevin Love  East ASG   \n",
       "2  2016-17  21600001  10/25/2016  CLE   202681.0      Kyrie Irving  East ASG   \n",
       "3  2016-17  21600001  10/25/2016  CLE   202684.0  Tristan Thompson      None   \n",
       "4  2016-17  21600001  10/25/2016  CLE   202697.0     Iman Shumpert      None   \n",
       "\n",
       "  Active_Status  AS    Votes  \n",
       "0        Active   0    46384  \n",
       "1        Active   1   909488  \n",
       "2        Active   1  1696769  \n",
       "3        Active   0   245822  \n",
       "4        Active   0    50970  "
      ]
     },
     "execution_count": 103,
     "metadata": {},
     "output_type": "execute_result"
    }
   ],
   "source": [
    "def ASG(team):\n",
    "    \"\"\"Return 1 if player was an all-star\"\"\"\n",
    "    if team != \"None\":\n",
    "        return 1\n",
    "    else:\n",
    "        return 0\n",
    "\n",
    "def to_int(num):\n",
    "    if isinstance(num,str):\n",
    "        return int(num.replace(',',''))\n",
    "    else:\n",
    "        return int(num)\n",
    "\n",
    "players_2017['AS'] = players_2017['ASG_Team'].apply(ASG)\n",
    "players_2018['AS'] = players_2018['ASG_Team'].apply(ASG)\n",
    "\n",
    "players_2017 = players_2017.merge(ASVotes_2017,on = 'Name', how = 'left')\n",
    "players_2017['Votes'] = players_2017['Votes'].fillna(value = 0).apply(to_int)\n",
    "players_2018 = players_2018.merge(ASVotes_2018, on = 'Name', how = 'left')\n",
    "players_2018['Votes'] = players_2018['Votes'].fillna(value = 0).apply(to_int)\n",
    "\n",
    "players_2017.head()"
   ]
  },
  {
   "cell_type": "markdown",
   "metadata": {},
   "source": [
    "Since player popularity is likely an important factor for viewership, we merged data about the number of all star votes a player got onto our player data sets.`AS` is just an indicator for whether or not the player made the All Star team."
   ]
  },
  {
   "cell_type": "code",
   "execution_count": 104,
   "metadata": {},
   "outputs": [
    {
     "data": {
      "text/html": [
       "<div>\n",
       "<style scoped>\n",
       "    .dataframe tbody tr th:only-of-type {\n",
       "        vertical-align: middle;\n",
       "    }\n",
       "\n",
       "    .dataframe tbody tr th {\n",
       "        vertical-align: top;\n",
       "    }\n",
       "\n",
       "    .dataframe thead th {\n",
       "        text-align: right;\n",
       "    }\n",
       "</style>\n",
       "<table border=\"1\" class=\"dataframe\">\n",
       "  <thead>\n",
       "    <tr style=\"text-align: right;\">\n",
       "      <th></th>\n",
       "      <th>Game_ID</th>\n",
       "      <th>AS</th>\n",
       "      <th>Votes</th>\n",
       "    </tr>\n",
       "  </thead>\n",
       "  <tbody>\n",
       "    <tr>\n",
       "      <th>0</th>\n",
       "      <td>21600001</td>\n",
       "      <td>4</td>\n",
       "      <td>6442929</td>\n",
       "    </tr>\n",
       "    <tr>\n",
       "      <th>1</th>\n",
       "      <td>21600002</td>\n",
       "      <td>0</td>\n",
       "      <td>667266</td>\n",
       "    </tr>\n",
       "    <tr>\n",
       "      <th>2</th>\n",
       "      <td>21600003</td>\n",
       "      <td>5</td>\n",
       "      <td>9984969</td>\n",
       "    </tr>\n",
       "    <tr>\n",
       "      <th>3</th>\n",
       "      <td>21600004</td>\n",
       "      <td>0</td>\n",
       "      <td>315854</td>\n",
       "    </tr>\n",
       "    <tr>\n",
       "      <th>4</th>\n",
       "      <td>21600005</td>\n",
       "      <td>1</td>\n",
       "      <td>712937</td>\n",
       "    </tr>\n",
       "  </tbody>\n",
       "</table>\n",
       "</div>"
      ],
      "text/plain": [
       "    Game_ID  AS    Votes\n",
       "0  21600001   4  6442929\n",
       "1  21600002   0   667266\n",
       "2  21600003   5  9984969\n",
       "3  21600004   0   315854\n",
       "4  21600005   1   712937"
      ]
     },
     "execution_count": 104,
     "metadata": {},
     "output_type": "execute_result"
    }
   ],
   "source": [
    "#Calculate total number of all-stars and votes for each game\n",
    "p17 = players_2017.groupby('Game_ID', as_index = False).agg(np.sum).drop('Person_ID', axis = 1)\n",
    "p18 = players_2018.groupby('Game_ID', as_index = False).agg(np.sum).drop('Person_ID', axis = 1)\n",
    "\n",
    "p17.head()"
   ]
  },
  {
   "cell_type": "code",
   "execution_count": 105,
   "metadata": {},
   "outputs": [
    {
     "data": {
      "text/html": [
       "<div>\n",
       "<style scoped>\n",
       "    .dataframe tbody tr th:only-of-type {\n",
       "        vertical-align: middle;\n",
       "    }\n",
       "\n",
       "    .dataframe tbody tr th {\n",
       "        vertical-align: top;\n",
       "    }\n",
       "\n",
       "    .dataframe thead th {\n",
       "        text-align: right;\n",
       "    }\n",
       "</style>\n",
       "<table border=\"1\" class=\"dataframe\">\n",
       "  <thead>\n",
       "    <tr style=\"text-align: right;\">\n",
       "      <th></th>\n",
       "      <th>Season</th>\n",
       "      <th>Game_ID</th>\n",
       "      <th>Game_Date</th>\n",
       "      <th>Away_Team</th>\n",
       "      <th>Home_Team</th>\n",
       "      <th>Total_Viewers</th>\n",
       "      <th>Month</th>\n",
       "      <th>Weekday</th>\n",
       "      <th>Day_Num</th>\n",
       "      <th>Month_Num</th>\n",
       "      <th>AS</th>\n",
       "      <th>Votes</th>\n",
       "    </tr>\n",
       "  </thead>\n",
       "  <tbody>\n",
       "    <tr>\n",
       "      <th>0</th>\n",
       "      <td>2016-17</td>\n",
       "      <td>21600001</td>\n",
       "      <td>10/25/2016</td>\n",
       "      <td>NYK</td>\n",
       "      <td>CLE</td>\n",
       "      <td>57691</td>\n",
       "      <td>October</td>\n",
       "      <td>Tuesday</td>\n",
       "      <td>1</td>\n",
       "      <td>1</td>\n",
       "      <td>4</td>\n",
       "      <td>6442929</td>\n",
       "    </tr>\n",
       "    <tr>\n",
       "      <th>1</th>\n",
       "      <td>2016-17</td>\n",
       "      <td>21600002</td>\n",
       "      <td>10/25/2016</td>\n",
       "      <td>UTA</td>\n",
       "      <td>POR</td>\n",
       "      <td>40740</td>\n",
       "      <td>October</td>\n",
       "      <td>Tuesday</td>\n",
       "      <td>1</td>\n",
       "      <td>1</td>\n",
       "      <td>0</td>\n",
       "      <td>667266</td>\n",
       "    </tr>\n",
       "    <tr>\n",
       "      <th>2</th>\n",
       "      <td>2016-17</td>\n",
       "      <td>21600003</td>\n",
       "      <td>10/25/2016</td>\n",
       "      <td>SAS</td>\n",
       "      <td>GSW</td>\n",
       "      <td>60428</td>\n",
       "      <td>October</td>\n",
       "      <td>Tuesday</td>\n",
       "      <td>1</td>\n",
       "      <td>1</td>\n",
       "      <td>5</td>\n",
       "      <td>9984969</td>\n",
       "    </tr>\n",
       "    <tr>\n",
       "      <th>3</th>\n",
       "      <td>2016-17</td>\n",
       "      <td>21600004</td>\n",
       "      <td>10/26/2016</td>\n",
       "      <td>MIA</td>\n",
       "      <td>ORL</td>\n",
       "      <td>22756</td>\n",
       "      <td>October</td>\n",
       "      <td>Wednesday</td>\n",
       "      <td>2</td>\n",
       "      <td>1</td>\n",
       "      <td>0</td>\n",
       "      <td>315854</td>\n",
       "    </tr>\n",
       "    <tr>\n",
       "      <th>4</th>\n",
       "      <td>2016-17</td>\n",
       "      <td>21600005</td>\n",
       "      <td>10/26/2016</td>\n",
       "      <td>DAL</td>\n",
       "      <td>IND</td>\n",
       "      <td>33922</td>\n",
       "      <td>October</td>\n",
       "      <td>Wednesday</td>\n",
       "      <td>2</td>\n",
       "      <td>1</td>\n",
       "      <td>1</td>\n",
       "      <td>712937</td>\n",
       "    </tr>\n",
       "  </tbody>\n",
       "</table>\n",
       "</div>"
      ],
      "text/plain": [
       "    Season   Game_ID   Game_Date Away_Team Home_Team  Total_Viewers    Month  \\\n",
       "0  2016-17  21600001  10/25/2016       NYK       CLE          57691  October   \n",
       "1  2016-17  21600002  10/25/2016       UTA       POR          40740  October   \n",
       "2  2016-17  21600003  10/25/2016       SAS       GSW          60428  October   \n",
       "3  2016-17  21600004  10/26/2016       MIA       ORL          22756  October   \n",
       "4  2016-17  21600005  10/26/2016       DAL       IND          33922  October   \n",
       "\n",
       "     Weekday  Day_Num  Month_Num  AS    Votes  \n",
       "0    Tuesday        1          1   4  6442929  \n",
       "1    Tuesday        1          1   0   667266  \n",
       "2    Tuesday        1          1   5  9984969  \n",
       "3  Wednesday        2          1   0   315854  \n",
       "4  Wednesday        2          1   1   712937  "
      ]
     },
     "execution_count": 105,
     "metadata": {},
     "output_type": "execute_result"
    }
   ],
   "source": [
    "viewers_2017 = viewers_2017.merge(p17, on = 'Game_ID')\n",
    "viewers_2018 = viewers_2018.merge(p18, on = 'Game_ID')\n",
    "\n",
    "viewers_2017.head()"
   ]
  },
  {
   "cell_type": "markdown",
   "metadata": {},
   "source": [
    "We merged the player data indicating the number of all stars in a game to our main data sets."
   ]
  },
  {
   "cell_type": "code",
   "execution_count": 106,
   "metadata": {},
   "outputs": [
    {
     "name": "stderr",
     "output_type": "stream",
     "text": [
      "'c' argument looks like a single numeric RGB or RGBA sequence, which should be avoided as value-mapping will have precedence in case its length matches with 'x' & 'y'.  Please use a 2-D array with a single row if you really want to specify the same RGB or RGBA value for all points.\n"
     ]
    },
    {
     "data": {
      "text/plain": [
       "<matplotlib.axes._subplots.AxesSubplot at 0x18411f7eac8>"
      ]
     },
     "execution_count": 106,
     "metadata": {},
     "output_type": "execute_result"
    },
    {
     "data": {
      "image/png": "[encoded data removed]",
      "text/plain": [
       "<Figure size 720x504 with 1 Axes>"
      ]
     },
     "metadata": {},
     "output_type": "display_data"
    }
   ],
   "source": [
    "viewers_2017.plot.scatter(x = 'Votes', y = 'Total_Viewers', title = \"All Star Votes vs Total Viewers\")"
   ]
  },
  {
   "cell_type": "markdown",
   "metadata": {},
   "source": [
    "We can see that there is a clear positive relationship between the number of all star votes a team received and the number of total viewers."
   ]
  },
  {
   "cell_type": "code",
   "execution_count": 107,
   "metadata": {},
   "outputs": [
    {
     "data": {
      "text/plain": [
       "<matplotlib.axes._subplots.AxesSubplot at 0x18411f73160>"
      ]
     },
     "execution_count": 107,
     "metadata": {},
     "output_type": "execute_result"
    },
    {
     "data": {
      "image/png": "[encoded data removed]",
      "text/plain": [
       "<Figure size 720x504 with 1 Axes>"
      ]
     },
     "metadata": {},
     "output_type": "display_data"
    }
   ],
   "source": [
    "viewers_2017.boxplot(column='Total_Viewers', by='AS', figsize=(10,7))"
   ]
  },
  {
   "cell_type": "code",
   "execution_count": 108,
   "metadata": {},
   "outputs": [
    {
     "data": {
      "text/html": [
       "<div>\n",
       "<style scoped>\n",
       "    .dataframe tbody tr th:only-of-type {\n",
       "        vertical-align: middle;\n",
       "    }\n",
       "\n",
       "    .dataframe tbody tr th {\n",
       "        vertical-align: top;\n",
       "    }\n",
       "\n",
       "    .dataframe thead th {\n",
       "        text-align: right;\n",
       "    }\n",
       "</style>\n",
       "<table border=\"1\" class=\"dataframe\">\n",
       "  <thead>\n",
       "    <tr style=\"text-align: right;\">\n",
       "      <th></th>\n",
       "      <th>Season</th>\n",
       "      <th>Game_ID</th>\n",
       "      <th>Game_Date</th>\n",
       "      <th>Away_Team</th>\n",
       "      <th>Home_Team</th>\n",
       "      <th>Total_Viewers</th>\n",
       "      <th>Month</th>\n",
       "      <th>Weekday</th>\n",
       "      <th>Day_Num</th>\n",
       "      <th>Month_Num</th>\n",
       "      <th>AS</th>\n",
       "      <th>Votes</th>\n",
       "    </tr>\n",
       "  </thead>\n",
       "  <tbody>\n",
       "    <tr>\n",
       "      <th>132</th>\n",
       "      <td>2016-17</td>\n",
       "      <td>21600165</td>\n",
       "      <td>11/16/2016</td>\n",
       "      <td>GSW</td>\n",
       "      <td>TOR</td>\n",
       "      <td>39188</td>\n",
       "      <td>November</td>\n",
       "      <td>Wednesday</td>\n",
       "      <td>2</td>\n",
       "      <td>2</td>\n",
       "      <td>6</td>\n",
       "      <td>9400282</td>\n",
       "    </tr>\n",
       "    <tr>\n",
       "      <th>397</th>\n",
       "      <td>2016-17</td>\n",
       "      <td>21600485</td>\n",
       "      <td>12/28/2016</td>\n",
       "      <td>TOR</td>\n",
       "      <td>GSW</td>\n",
       "      <td>24909</td>\n",
       "      <td>December</td>\n",
       "      <td>Wednesday</td>\n",
       "      <td>2</td>\n",
       "      <td>3</td>\n",
       "      <td>6</td>\n",
       "      <td>9400282</td>\n",
       "    </tr>\n",
       "    <tr>\n",
       "      <th>981</th>\n",
       "      <td>2016-17</td>\n",
       "      <td>21601195</td>\n",
       "      <td>4/8/2017</td>\n",
       "      <td>NOP</td>\n",
       "      <td>GSW</td>\n",
       "      <td>26725</td>\n",
       "      <td>April</td>\n",
       "      <td>Saturday</td>\n",
       "      <td>5</td>\n",
       "      <td>7</td>\n",
       "      <td>6</td>\n",
       "      <td>9559935</td>\n",
       "    </tr>\n",
       "  </tbody>\n",
       "</table>\n",
       "</div>"
      ],
      "text/plain": [
       "      Season   Game_ID   Game_Date Away_Team Home_Team  Total_Viewers  \\\n",
       "132  2016-17  21600165  11/16/2016       GSW       TOR          39188   \n",
       "397  2016-17  21600485  12/28/2016       TOR       GSW          24909   \n",
       "981  2016-17  21601195    4/8/2017       NOP       GSW          26725   \n",
       "\n",
       "        Month    Weekday  Day_Num  Month_Num  AS    Votes  \n",
       "132  November  Wednesday        2          2   6  9400282  \n",
       "397  December  Wednesday        2          3   6  9400282  \n",
       "981     April   Saturday        5          7   6  9559935  "
      ]
     },
     "execution_count": 108,
     "metadata": {},
     "output_type": "execute_result"
    }
   ],
   "source": [
    "viewers_2017[viewers_2017['AS'] == 6]"
   ]
  },
  {
   "cell_type": "markdown",
   "metadata": {},
   "source": [
    "As expected, the more All Stars present for a game, the more viewers we can expect for that game.There is an unexpected drop in viewership when there are 6 All Stars. This is likely due to some other factors like the weekday or month when those games happened. Since there were only 3 games that featured 6 All Stars, the average viewership has a fairly high variance."
   ]
  },
  {
   "cell_type": "code",
   "execution_count": 109,
   "metadata": {},
   "outputs": [
    {
     "data": {
      "text/plain": [
       "Total_Viewers    1.000000\n",
       "Day_Num          0.100132\n",
       "Month_Num       -0.277465\n",
       "AS               0.624570\n",
       "Votes            0.749681\n",
       "Name: Total_Viewers, dtype: float64"
      ]
     },
     "execution_count": 109,
     "metadata": {},
     "output_type": "execute_result"
    }
   ],
   "source": [
    "viewers_2017.corr()['Total_Viewers']"
   ]
  },
  {
   "cell_type": "markdown",
   "metadata": {},
   "source": [
    "Out of the features that we have examined thus far, the number of All Star votes seems to be the most strongly correlated. However, because the other features are categorical in nature rather than continuous and quantitative, we probably should not put too much stock into their correlations. Each of these factors definitely plays a part in total viewership.\n",
    "\n",
    "Now we will look at the strength of each team as a factor in viewrship."
   ]
  },
  {
   "cell_type": "code",
   "execution_count": 110,
   "metadata": {},
   "outputs": [],
   "source": [
    "def by_team(viewers):\n",
    "    \"\"\"Return a DataFrame with each team's average viewership and average number of AS votes\"\"\"\n",
    "    by_team = pd.DataFrame(columns = ['Team', 'Avg_Viewers', 'Votes'])\n",
    "    for team in viewers['Away_Team'].unique():\n",
    "        a = viewers['Away_Team'] == team\n",
    "        b = viewers['Home_Team'] == team\n",
    "        avg_viewers = pd.concat([viewers[a], viewers[b]])['Total_Viewers'].mean()\n",
    "        avg_votes = pd.concat([viewers[a], viewers[b]])['Votes'].mean()\n",
    "    \n",
    "        row = pd.DataFrame([[team, avg_viewers, avg_votes], ], columns = ['Team', 'Avg_Viewers', 'Votes'])\n",
    "        by_team = by_team.append(row)\n",
    "    return by_team\n",
    "\n",
    "by_team17 = by_team(viewers_2017)\n",
    "by_team18 = by_team(viewers_2018)"
   ]
  },
  {
   "cell_type": "code",
   "execution_count": 111,
   "metadata": {
    "scrolled": true
   },
   "outputs": [
    {
     "data": {
      "text/html": [
       "<div>\n",
       "<style scoped>\n",
       "    .dataframe tbody tr th:only-of-type {\n",
       "        vertical-align: middle;\n",
       "    }\n",
       "\n",
       "    .dataframe tbody tr th {\n",
       "        vertical-align: top;\n",
       "    }\n",
       "\n",
       "    .dataframe thead th {\n",
       "        text-align: right;\n",
       "    }\n",
       "</style>\n",
       "<table border=\"1\" class=\"dataframe\">\n",
       "  <thead>\n",
       "    <tr style=\"text-align: right;\">\n",
       "      <th></th>\n",
       "      <th>Team</th>\n",
       "      <th>Avg_Viewers</th>\n",
       "      <th>Votes</th>\n",
       "    </tr>\n",
       "  </thead>\n",
       "  <tbody>\n",
       "    <tr>\n",
       "      <th>0</th>\n",
       "      <td>GSW</td>\n",
       "      <td>35505.300000</td>\n",
       "      <td>8.084181e+06</td>\n",
       "    </tr>\n",
       "    <tr>\n",
       "      <th>0</th>\n",
       "      <td>CLE</td>\n",
       "      <td>31757.691176</td>\n",
       "      <td>5.811344e+06</td>\n",
       "    </tr>\n",
       "    <tr>\n",
       "      <th>0</th>\n",
       "      <td>OKC</td>\n",
       "      <td>24420.531250</td>\n",
       "      <td>3.098927e+06</td>\n",
       "    </tr>\n",
       "    <tr>\n",
       "      <th>0</th>\n",
       "      <td>SAS</td>\n",
       "      <td>21187.900000</td>\n",
       "      <td>3.100491e+06</td>\n",
       "    </tr>\n",
       "    <tr>\n",
       "      <th>0</th>\n",
       "      <td>NYK</td>\n",
       "      <td>20320.236111</td>\n",
       "      <td>2.298318e+06</td>\n",
       "    </tr>\n",
       "    <tr>\n",
       "      <th>0</th>\n",
       "      <td>HOU</td>\n",
       "      <td>19030.176471</td>\n",
       "      <td>4.229003e+06</td>\n",
       "    </tr>\n",
       "    <tr>\n",
       "      <th>0</th>\n",
       "      <td>LAL</td>\n",
       "      <td>18873.114286</td>\n",
       "      <td>2.208032e+06</td>\n",
       "    </tr>\n",
       "    <tr>\n",
       "      <th>0</th>\n",
       "      <td>BOS</td>\n",
       "      <td>18736.076923</td>\n",
       "      <td>2.054360e+06</td>\n",
       "    </tr>\n",
       "    <tr>\n",
       "      <th>0</th>\n",
       "      <td>CHI</td>\n",
       "      <td>18704.805970</td>\n",
       "      <td>2.689271e+06</td>\n",
       "    </tr>\n",
       "    <tr>\n",
       "      <th>0</th>\n",
       "      <td>LAC</td>\n",
       "      <td>16973.295775</td>\n",
       "      <td>2.410083e+06</td>\n",
       "    </tr>\n",
       "    <tr>\n",
       "      <th>0</th>\n",
       "      <td>TOR</td>\n",
       "      <td>16556.602740</td>\n",
       "      <td>2.410682e+06</td>\n",
       "    </tr>\n",
       "    <tr>\n",
       "      <th>0</th>\n",
       "      <td>MIN</td>\n",
       "      <td>15816.257143</td>\n",
       "      <td>1.903663e+06</td>\n",
       "    </tr>\n",
       "    <tr>\n",
       "      <th>0</th>\n",
       "      <td>PHI</td>\n",
       "      <td>15784.112903</td>\n",
       "      <td>1.887172e+06</td>\n",
       "    </tr>\n",
       "    <tr>\n",
       "      <th>0</th>\n",
       "      <td>POR</td>\n",
       "      <td>15493.176471</td>\n",
       "      <td>1.650342e+06</td>\n",
       "    </tr>\n",
       "    <tr>\n",
       "      <th>0</th>\n",
       "      <td>NOP</td>\n",
       "      <td>15104.104478</td>\n",
       "      <td>2.649387e+06</td>\n",
       "    </tr>\n",
       "    <tr>\n",
       "      <th>0</th>\n",
       "      <td>WAS</td>\n",
       "      <td>14883.147059</td>\n",
       "      <td>1.536652e+06</td>\n",
       "    </tr>\n",
       "    <tr>\n",
       "      <th>0</th>\n",
       "      <td>MIL</td>\n",
       "      <td>14759.468750</td>\n",
       "      <td>3.069358e+06</td>\n",
       "    </tr>\n",
       "    <tr>\n",
       "      <th>0</th>\n",
       "      <td>MIA</td>\n",
       "      <td>14445.376812</td>\n",
       "      <td>1.386242e+06</td>\n",
       "    </tr>\n",
       "    <tr>\n",
       "      <th>0</th>\n",
       "      <td>ATL</td>\n",
       "      <td>14303.115942</td>\n",
       "      <td>1.458142e+06</td>\n",
       "    </tr>\n",
       "    <tr>\n",
       "      <th>0</th>\n",
       "      <td>CHA</td>\n",
       "      <td>13525.403226</td>\n",
       "      <td>1.477242e+06</td>\n",
       "    </tr>\n",
       "    <tr>\n",
       "      <th>0</th>\n",
       "      <td>PHX</td>\n",
       "      <td>13453.352941</td>\n",
       "      <td>1.454338e+06</td>\n",
       "    </tr>\n",
       "    <tr>\n",
       "      <th>0</th>\n",
       "      <td>SAC</td>\n",
       "      <td>13216.928571</td>\n",
       "      <td>1.813374e+06</td>\n",
       "    </tr>\n",
       "    <tr>\n",
       "      <th>0</th>\n",
       "      <td>UTA</td>\n",
       "      <td>13128.833333</td>\n",
       "      <td>1.546491e+06</td>\n",
       "    </tr>\n",
       "    <tr>\n",
       "      <th>0</th>\n",
       "      <td>IND</td>\n",
       "      <td>12860.686567</td>\n",
       "      <td>1.445615e+06</td>\n",
       "    </tr>\n",
       "    <tr>\n",
       "      <th>0</th>\n",
       "      <td>BKN</td>\n",
       "      <td>12841.615385</td>\n",
       "      <td>1.337837e+06</td>\n",
       "    </tr>\n",
       "    <tr>\n",
       "      <th>0</th>\n",
       "      <td>DAL</td>\n",
       "      <td>12723.850746</td>\n",
       "      <td>1.361762e+06</td>\n",
       "    </tr>\n",
       "    <tr>\n",
       "      <th>0</th>\n",
       "      <td>MEM</td>\n",
       "      <td>12173.318182</td>\n",
       "      <td>1.661093e+06</td>\n",
       "    </tr>\n",
       "    <tr>\n",
       "      <th>0</th>\n",
       "      <td>ORL</td>\n",
       "      <td>12107.097222</td>\n",
       "      <td>1.203062e+06</td>\n",
       "    </tr>\n",
       "    <tr>\n",
       "      <th>0</th>\n",
       "      <td>DEN</td>\n",
       "      <td>11701.112903</td>\n",
       "      <td>1.315989e+06</td>\n",
       "    </tr>\n",
       "    <tr>\n",
       "      <th>0</th>\n",
       "      <td>DET</td>\n",
       "      <td>11282.848485</td>\n",
       "      <td>1.399388e+06</td>\n",
       "    </tr>\n",
       "  </tbody>\n",
       "</table>\n",
       "</div>"
      ],
      "text/plain": [
       "  Team   Avg_Viewers         Votes\n",
       "0  GSW  35505.300000  8.084181e+06\n",
       "0  CLE  31757.691176  5.811344e+06\n",
       "0  OKC  24420.531250  3.098927e+06\n",
       "0  SAS  21187.900000  3.100491e+06\n",
       "0  NYK  20320.236111  2.298318e+06\n",
       "0  HOU  19030.176471  4.229003e+06\n",
       "0  LAL  18873.114286  2.208032e+06\n",
       "0  BOS  18736.076923  2.054360e+06\n",
       "0  CHI  18704.805970  2.689271e+06\n",
       "0  LAC  16973.295775  2.410083e+06\n",
       "0  TOR  16556.602740  2.410682e+06\n",
       "0  MIN  15816.257143  1.903663e+06\n",
       "0  PHI  15784.112903  1.887172e+06\n",
       "0  POR  15493.176471  1.650342e+06\n",
       "0  NOP  15104.104478  2.649387e+06\n",
       "0  WAS  14883.147059  1.536652e+06\n",
       "0  MIL  14759.468750  3.069358e+06\n",
       "0  MIA  14445.376812  1.386242e+06\n",
       "0  ATL  14303.115942  1.458142e+06\n",
       "0  CHA  13525.403226  1.477242e+06\n",
       "0  PHX  13453.352941  1.454338e+06\n",
       "0  SAC  13216.928571  1.813374e+06\n",
       "0  UTA  13128.833333  1.546491e+06\n",
       "0  IND  12860.686567  1.445615e+06\n",
       "0  BKN  12841.615385  1.337837e+06\n",
       "0  DAL  12723.850746  1.361762e+06\n",
       "0  MEM  12173.318182  1.661093e+06\n",
       "0  ORL  12107.097222  1.203062e+06\n",
       "0  DEN  11701.112903  1.315989e+06\n",
       "0  DET  11282.848485  1.399388e+06"
      ]
     },
     "execution_count": 111,
     "metadata": {},
     "output_type": "execute_result"
    }
   ],
   "source": [
    "by_team17 = by_team17.sort_values('Avg_Viewers', ascending=False)\n",
    "by_team17"
   ]
  },
  {
   "cell_type": "code",
   "execution_count": 112,
   "metadata": {
    "scrolled": true
   },
   "outputs": [],
   "source": [
    "#Read standings data\n",
    "standings17 = pd.read_csv('data/NBA_Standings17.csv')\n",
    "standings18 = pd.read_csv('data/NBA_Standings18.csv')\n",
    "\n",
    "by_team17 = by_team17.merge(standings17, on = 'Team')"
   ]
  },
  {
   "cell_type": "code",
   "execution_count": 113,
   "metadata": {},
   "outputs": [
    {
     "data": {
      "text/plain": [
       "0.5"
      ]
     },
     "execution_count": 113,
     "metadata": {},
     "output_type": "execute_result"
    }
   ],
   "source": [
    "#Calculate the median win percentage for the 2016-2017 season\n",
    "median_perc = np.median(by_team17['Percentage'])\n",
    "median_perc"
   ]
  },
  {
   "cell_type": "code",
   "execution_count": 114,
   "metadata": {},
   "outputs": [],
   "source": [
    "#Choose the color coding for the bar chart. Above average teams are in orange, and below average teams in blue\n",
    "def choose_color(perc):\n",
    "    if perc > 0.5:\n",
    "        return sns.xkcd_rgb[\"orange\"]\n",
    "    else:\n",
    "        return sns.xkcd_rgb[\"denim blue\"]\n",
    "colors = np.array(by_team17['Percentage'].apply(choose_color))"
   ]
  },
  {
   "cell_type": "code",
   "execution_count": 115,
   "metadata": {
    "scrolled": false
   },
   "outputs": [
    {
     "data": {
      "text/plain": [
       "<BarContainer object of 29 artists>"
      ]
     },
     "execution_count": 115,
     "metadata": {},
     "output_type": "execute_result"
    },
    {
     "data": {
      "image/png": "[encoded data removed]",
      "text/plain": [
       "<Figure size 720x504 with 1 Axes>"
      ]
     },
     "metadata": {},
     "output_type": "display_data"
    }
   ],
   "source": [
    "plt.rcParams['figure.figsize'] = (10,7)\n",
    "plt.title('Avg Viewerss by Team 2017')\n",
    "plt.xlabel('Average Viewers')\n",
    "plt.barh(y = by_team17['Team'], width = by_team17['Avg_Viewers'], color = colors)"
   ]
  },
  {
   "cell_type": "markdown",
   "metadata": {},
   "source": [
    "We now examine the average viewership for each NBA team during the 2017 season. Some of the results are surprising. For example, the New York Knicks(NYK) and Los Angelse Lakers(LAL) both finished near the bottom in the standings but are in the top seven in average viewership. Similarly, the Utah Jazz(UTA) are in the top eight in win percentage, but in the bottom eight in average viewership."
   ]
  },
  {
   "cell_type": "code",
   "execution_count": 120,
   "metadata": {},
   "outputs": [
    {
     "name": "stderr",
     "output_type": "stream",
     "text": [
      "'c' argument looks like a single numeric RGB or RGBA sequence, which should be avoided as value-mapping will have precedence in case its length matches with 'x' & 'y'.  Please use a 2-D array with a single row if you really want to specify the same RGB or RGBA value for all points.\n"
     ]
    },
    {
     "data": {
      "text/plain": [
       "<matplotlib.axes._subplots.AxesSubplot at 0x184130bfda0>"
      ]
     },
     "execution_count": 120,
     "metadata": {},
     "output_type": "execute_result"
    },
    {
     "data": {
      "image/png": "[encoded data removed]",
      "text/plain": [
       "<Figure size 720x504 with 1 Axes>"
      ]
     },
     "metadata": {},
     "output_type": "display_data"
    }
   ],
   "source": [
    "by_team17.plot.scatter(x = 'Percentage', y = 'Avg_Viewers', title = 'Win Percentage vs Average Team Viewership')"
   ]
  },
  {
   "cell_type": "markdown",
   "metadata": {},
   "source": [
    "While there is some relationship between win percentage and the number of viewers, the trend seems to be fairly weak. There is a fair bit of variance in the viewership for a given win percentage."
   ]
  },
  {
   "cell_type": "code",
   "execution_count": 117,
   "metadata": {},
   "outputs": [
    {
     "name": "stderr",
     "output_type": "stream",
     "text": [
      "'c' argument looks like a single numeric RGB or RGBA sequence, which should be avoided as value-mapping will have precedence in case its length matches with 'x' & 'y'.  Please use a 2-D array with a single row if you really want to specify the same RGB or RGBA value for all points.\n"
     ]
    },
    {
     "data": {
      "text/plain": [
       "<matplotlib.axes._subplots.AxesSubplot at 0x184120567f0>"
      ]
     },
     "execution_count": 117,
     "metadata": {},
     "output_type": "execute_result"
    },
    {
     "data": {
      "image/png": "[encoded data removed]",
      "text/plain": [
       "<Figure size 720x504 with 1 Axes>"
      ]
     },
     "metadata": {},
     "output_type": "display_data"
    }
   ],
   "source": [
    "by_team17.plot.scatter(x = 'Votes', y = 'Avg_Viewers', title = 'All Star Votes vs Average Team Viewership')"
   ]
  },
  {
   "cell_type": "code",
   "execution_count": 118,
   "metadata": {
    "scrolled": true
   },
   "outputs": [
    {
     "data": {
      "text/plain": [
       "Avg_Viewers     1.000000\n",
       "Votes           0.920166\n",
       "Position       -0.506661\n",
       "Percentage      0.561135\n",
       "Games_Behind   -0.332019\n",
       "Pts_Scored      0.598786\n",
       "Pts_Allowed     0.042987\n",
       "Name: Avg_Viewers, dtype: float64"
      ]
     },
     "execution_count": 118,
     "metadata": {},
     "output_type": "execute_result"
    }
   ],
   "source": [
    "by_team17.corr()['Avg_Viewers']"
   ]
  },
  {
   "cell_type": "markdown",
   "metadata": {},
   "source": [
    "Based on the scatterplot and the correlations, it's clear that the popularity of the players on the team is more important for viewership than the strength of the team. Another interesting observation based on the correlations is that the strength of a team's offense is correlated to its viewership while the strngth of its defense is not.\n",
    "\n",
    "Note: Team Points scored and allowed per game are not actually accurate measures of strength of ofense and defense respectively. However when compared to each other, the fact that only one of the two is correlated with viewership shows that offense is more important for viewership."
   ]
  }
 ],
 "metadata": {
  "kernelspec": {
   "display_name": "Python 3",
   "language": "python",
   "name": "python3"
  },
  "language_info": {
   "codemirror_mode": {
    "name": "ipython",
    "version": 3
   },
   "file_extension": ".py",
   "mimetype": "text/x-python",
   "name": "python",
   "nbconvert_exporter": "python",
   "pygments_lexer": "ipython3",
   "version": "3.7.1"
  }
 },
 "nbformat": 4,
 "nbformat_minor": 2
}
